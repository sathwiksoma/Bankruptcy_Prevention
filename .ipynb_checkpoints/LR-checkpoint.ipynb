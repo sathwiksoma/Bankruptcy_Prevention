{
 "cells": [
  {
   "cell_type": "code",
   "execution_count": 4,
   "id": "679376ac-6d5d-491c-95c1-1ae85e8eeffe",
   "metadata": {},
   "outputs": [
    {
     "name": "stdout",
     "output_type": "stream",
     "text": [
      " ~ ~ ~ ~ ~ ~ ~ ~  Logarthmic Regression ~ ~ ~ ~ ~ ~ ~ ~ \n"
     ]
    }
   ],
   "source": [
    "print (' ~ ~ ~ ~ ~ ~ ~ ~  Logarthmic Regression ~ ~ ~ ~ ~ ~ ~ ~ ')"
   ]
  },
  {
   "cell_type": "markdown",
   "id": "3a563a65-0f7b-4c77-a0a4-f1ec1eba0624",
   "metadata": {},
   "source": [
    "### Problem"
   ]
  },
  {
   "cell_type": "markdown",
   "id": "a7674df3-4288-4cc5-a62b-0d37a4660226",
   "metadata": {},
   "source": [
    "<pre> \n",
    "    Model the probability that a business goes bankrupt \n",
    "    The data set includes the following variables:\n",
    "      1. industrial_risk: 0=low risk, 0.5=medium risk, 1=high risk.\n",
    "      2. management_risk: 0=low risk, 0.5=medium risk, 1=high risk.\n",
    "      3. financial flexibility: 0=low flexibility, 0.5=medium flexibility, 1=high flexibility.\n",
    "      4. credibility: 0=low credibility, 0.5=medium credibility, 1=high credibility.\n",
    "      5. competitiveness: 0=low competitiveness, 0.5=medium competitiveness, 1=high competitiveness.\n",
    "      6. operating_risk: 0=low risk, 0.5=medium risk, 1=high risk.\n",
    "      7. class: bankruptcy, non-bankruptcy (target variable).able).\n",
    "\n",
    "</pre>"
   ]
  },
  {
   "cell_type": "markdown",
   "id": "bd428320-0ccf-438d-8dd4-4ba8d79dd41b",
   "metadata": {},
   "source": [
    "### Library imports"
   ]
  },
  {
   "cell_type": "code",
   "execution_count": 2,
   "id": "7c150b52-0e34-4643-9b3a-6a1b827e018e",
   "metadata": {},
   "outputs": [
    {
     "ename": "ModuleNotFoundError",
     "evalue": "No module named 'ydata_profiling'",
     "output_type": "error",
     "traceback": [
      "\u001b[1;31m---------------------------------------------------------------------------\u001b[0m",
      "\u001b[1;31mModuleNotFoundError\u001b[0m                       Traceback (most recent call last)",
      "Cell \u001b[1;32mIn[2], line 17\u001b[0m\n\u001b[0;32m     13\u001b[0m \u001b[38;5;28;01mfrom\u001b[39;00m \u001b[38;5;21;01mstatsmodels\u001b[39;00m\u001b[38;5;21;01m.\u001b[39;00m\u001b[38;5;21;01mstats\u001b[39;00m\u001b[38;5;21;01m.\u001b[39;00m\u001b[38;5;21;01moutliers_influence\u001b[39;00m \u001b[38;5;28;01mimport\u001b[39;00m variance_inflation_factor\n\u001b[0;32m     15\u001b[0m \u001b[38;5;28;01mimport\u001b[39;00m \u001b[38;5;21;01mtime\u001b[39;00m \u001b[38;5;28;01mas\u001b[39;00m \u001b[38;5;21;01mt\u001b[39;00m\n\u001b[1;32m---> 17\u001b[0m \u001b[38;5;28;01mimport\u001b[39;00m \u001b[38;5;21;01mydata_profiling\u001b[39;00m \u001b[38;5;28;01mas\u001b[39;00m \u001b[38;5;21;01myd\u001b[39;00m\n\u001b[0;32m     19\u001b[0m \u001b[38;5;28;01mimport\u001b[39;00m \u001b[38;5;21;01mwarnings\u001b[39;00m\n\u001b[0;32m     20\u001b[0m warnings\u001b[38;5;241m.\u001b[39mfilterwarnings(action\u001b[38;5;241m=\u001b[39m\u001b[38;5;124m'\u001b[39m\u001b[38;5;124mignore\u001b[39m\u001b[38;5;124m'\u001b[39m)\n",
      "\u001b[1;31mModuleNotFoundError\u001b[0m: No module named 'ydata_profiling'"
     ]
    }
   ],
   "source": [
    "import pandas as pd\n",
    "import numpy as np\n",
    "import matplotlib.pyplot as plt\n",
    "import seaborn as sns\n",
    "\n",
    "from sklearn.model_selection import train_test_split\n",
    "from sklearn.linear_model import LogisticRegression, LogisticRegressionCV\n",
    "from sklearn.metrics import confusion_matrix, classification_report, roc_curve, auc\n",
    "from sklearn.metrics import accuracy_score, precision_score, recall_score, f1_score, roc_auc_score \n",
    "from sklearn.metrics import brier_score_loss, log_loss, matthews_corrcoef\n",
    "\n",
    "from statsmodels.tools.tools import add_constant\n",
    "from statsmodels.stats.outliers_influence import variance_inflation_factor\n",
    "\n",
    "import time as t\n",
    "\n",
    "import ydata_profiling as yd\n",
    "\n",
    "import warnings\n",
    "warnings.filterwarnings(action='ignore')"
   ]
  },
  {
   "cell_type": "markdown",
   "id": "6f3bc16b-f4fb-4738-88be-2d05d3d3a1e5",
   "metadata": {},
   "source": [
    "## <font color='#e74c3c'> Read data </font>"
   ]
  },
  {
   "cell_type": "code",
   "execution_count": null,
   "id": "82a5521b-b5d7-4b16-bbc6-7ff0ab7302cc",
   "metadata": {},
   "outputs": [],
   "source": [
    "df = pd.read_csv('bankruptcy-prevention.csv')\n",
    "df.head()"
   ]
  },
  {
   "cell_type": "markdown",
   "id": "b5b13ce7-d604-4e54-8b30-acf1d727bbad",
   "metadata": {},
   "source": [
    "### <font color='#1abc9c'> Change the name of the target column from 'class' (Python keyword) to 'category'. </font>"
   ]
  },
  {
   "cell_type": "code",
   "execution_count": null,
   "id": "1cb5d71f-71ac-4661-866f-e0106c6f0797",
   "metadata": {},
   "outputs": [],
   "source": [
    "df.columns = ['industrial_risk', 'management_risk', 'financial_flexibility',\n",
    "        'credibility', 'competitiveness', 'operating_risk', 'category']\n",
    "df.head()"
   ]
  },
  {
   "cell_type": "markdown",
   "id": "e857a01d-92bb-4609-8b50-3bf104f9be4b",
   "metadata": {},
   "source": [
    "### <font color='#1abc9c'> Maintaining a deep copy of original data </font>"
   ]
  },
  {
   "cell_type": "code",
   "execution_count": null,
   "id": "610ee4a6-82f7-4a8b-ab50-1b786e245075",
   "metadata": {},
   "outputs": [],
   "source": [
    "df_orig = df.copy()\n",
    "id(df), id(df_orig)"
   ]
  },
  {
   "cell_type": "markdown",
   "id": "39b25be6-820f-460a-9963-a9bd59d0d8e3",
   "metadata": {},
   "source": [
    "## <font color='#e74c3c'> Pandas Profiling Automated EDA </font>"
   ]
  },
  {
   "cell_type": "code",
   "execution_count": null,
   "id": "d9d73adb-75a5-4cb6-915a-b58866a872a6",
   "metadata": {},
   "outputs": [],
   "source": [
    "# profile = yd.ProfileReport(df, title=\"Report\")\n",
    "# profile"
   ]
  },
  {
   "cell_type": "markdown",
   "id": "5fbd08d0-bfa3-46bf-8f75-e19fa064c58f",
   "metadata": {},
   "source": [
    "## <font color='#e74c3c'> Data Processing and EDA </font>"
   ]
  },
  {
   "cell_type": "code",
   "execution_count": null,
   "id": "606ff2df-435b-4824-af4b-202a6a990d91",
   "metadata": {},
   "outputs": [],
   "source": [
    "df.info()"
   ]
  },
  {
   "cell_type": "code",
   "execution_count": null,
   "id": "7ac50c00-0b7e-43e4-bfbf-0098c468b73f",
   "metadata": {},
   "outputs": [],
   "source": [
    "print(f'Unique categories: {df.category.unique()}')"
   ]
  },
  {
   "cell_type": "markdown",
   "id": "2d1b6d4d-652f-40cb-9fd0-94eb7bb2a9c2",
   "metadata": {},
   "source": [
    "#### <font color='#1abc9c'> Convert the target column 'category' into numeric </font>"
   ]
  },
  {
   "cell_type": "code",
   "execution_count": null,
   "id": "8468ab69-6fd3-49a9-b89e-ab77949041db",
   "metadata": {},
   "outputs": [],
   "source": [
    "df['category'] = df['category'].apply(lambda x: 0 if x=='non-bankruptcy' else 1)"
   ]
  },
  {
   "cell_type": "code",
   "execution_count": null,
   "id": "ad8985d9-28f8-49e2-831d-0d988aed000a",
   "metadata": {},
   "outputs": [],
   "source": [
    "print(f'Unique categories: {df.category.unique()}')\n",
    "df.head()"
   ]
  },
  {
   "cell_type": "code",
   "execution_count": null,
   "id": "bfb1a2c8-6d40-428e-9a72-9b2b26c1a603",
   "metadata": {},
   "outputs": [],
   "source": [
    "print(df['industrial_risk'].unique())\n",
    "print(df['management_risk'].unique()) \n",
    "print(df['financial_flexibility'].unique())\n",
    "print(df['credibility'].unique())\n",
    "print(df['competitiveness'].unique())\n",
    "print(df['operating_risk'].unique())"
   ]
  },
  {
   "cell_type": "markdown",
   "id": "15319c71-b30b-4d46-bb4d-89a22854a4f8",
   "metadata": {},
   "source": [
    "#### <font color='#1abc9c'> Check for null or NaN values </font>"
   ]
  },
  {
   "cell_type": "code",
   "execution_count": null,
   "id": "3ad44aab-1d80-4644-bd3d-6a49ade7c4d0",
   "metadata": {},
   "outputs": [],
   "source": [
    "df.isna().sum(), df.isnull().sum()"
   ]
  },
  {
   "cell_type": "code",
   "execution_count": null,
   "id": "8caabb61-c03e-4fff-82c9-f7a4995e5c0b",
   "metadata": {},
   "outputs": [],
   "source": [
    "df.describe()"
   ]
  },
  {
   "cell_type": "markdown",
   "id": "a821b28e-0360-42cf-bfdd-291b4bc0ee3f",
   "metadata": {},
   "source": [
    "#### <font color='#1abc9c'> Check for duplicate values </font>"
   ]
  },
  {
   "cell_type": "code",
   "execution_count": null,
   "id": "a4abb7d2-d5cd-4e6e-97e6-fce1c7dee085",
   "metadata": {},
   "outputs": [],
   "source": [
    "print(f'Are there any duplicated rows? {df.duplicated().any()}')"
   ]
  },
  {
   "cell_type": "code",
   "execution_count": null,
   "id": "fac200b0-5339-48fb-a66a-376a7f1bb1d1",
   "metadata": {},
   "outputs": [],
   "source": [
    "#De-duplicating rows\n",
    "df.drop_duplicates(subset=None, keep='first', inplace=False)"
   ]
  },
  {
   "cell_type": "markdown",
   "id": "29fc8511-be44-4330-bb73-2e02ec82e651",
   "metadata": {},
   "source": [
    "<hr/><font color='#3636a9'> Since most of the feature values are discrete, there are bound to be duplicates. But this is valid data for individual businesses (significant). So it doesn't make sense to de-duplicate the dataset </font><hr/>"
   ]
  },
  {
   "cell_type": "markdown",
   "id": "098de713-c050-4e19-b9a1-1e1d7ebeb2de",
   "metadata": {},
   "source": [
    "#### <font color='#1abc9c'> Calculate VIF </font>"
   ]
  },
  {
   "cell_type": "code",
   "execution_count": null,
   "id": "1b0452ff-48eb-4361-b103-61c51af00ff9",
   "metadata": {},
   "outputs": [],
   "source": [
    "X = df.drop(columns=['category'])\n",
    "X = add_constant(X)\n",
    "vif_data = pd.DataFrame()\n",
    "vif_data['feature'] = X.columns\n",
    "vif_data['VIF'] = [variance_inflation_factor(X.values, i) for i in range(len(X.columns))]\n",
    "vif_data"
   ]
  },
  {
   "cell_type": "markdown",
   "id": "097d72b6-5ffc-4502-9a59-6d6f88d6e470",
   "metadata": {},
   "source": [
    "## <font color='#e74c3c'> Visualization </font>"
   ]
  },
  {
   "cell_type": "markdown",
   "id": "057ef40f-0a73-4444-bff2-c5c42a01e5fe",
   "metadata": {},
   "source": [
    "#### <font color='#1abc9c'> Distribution </font>"
   ]
  },
  {
   "cell_type": "code",
   "execution_count": null,
   "id": "ae8ca77c-ff1d-4e54-be32-ce91057f4848",
   "metadata": {},
   "outputs": [],
   "source": [
    "df.hist(figsize=(10,8))\n",
    "plt.show()"
   ]
  },
  {
   "cell_type": "code",
   "execution_count": null,
   "id": "25d4f71b-be2a-4142-9ce7-f371e15a47ff",
   "metadata": {},
   "outputs": [],
   "source": [
    "fig, ax = plt.subplots(2,3)\n",
    "fig.set_size_inches(15,8)\n",
    "\n",
    "sns.distplot(df.industrial_risk, ax=ax[0,0], color='#ef6937')\n",
    "sns.distplot(df.management_risk, ax=ax[0,1], color='#69bf37')\n",
    "sns.distplot(df.financial_flexibility, ax=ax[0,2], color='#3769ef')\n",
    "sns.distplot(df.credibility, ax=ax[1,0], color='#3769ef')\n",
    "sns.distplot(df.competitiveness, ax=ax[1,1], color='#69bf37')\n",
    "sns.distplot(df.operating_risk, ax=ax[1,2], color='#ef6937')\n",
    "\n",
    "plt.show()"
   ]
  },
  {
   "cell_type": "markdown",
   "id": "6ab2e374-6c0a-42de-8bf0-87466c83ce57",
   "metadata": {},
   "source": [
    "\n",
    " <ul> \n",
    "     <font color='676799> \n",
    "         <li> Distributions of all features indicate multi-modal distribution.  </li>\n",
    "         <li> All features have discrete values which seem to be representative values of categories </li>\n",
    "         <li> 'management_risk' and 'operating_risk' show slight negative skewness while 'financial_flexibility' shows positive skewness. The rest of the features are more or less zero skewed. </li>\n",
    "     </font>\n",
    " </ul>\n"
   ]
  },
  {
   "cell_type": "markdown",
   "id": "0f765696-b44d-453a-a6de-ad04b2c7f786",
   "metadata": {},
   "source": [
    "<hr/>\n",
    "<ul>\n",
    "    <i>\n",
    "        <font color='#3636a9'>\n",
    "            <li>All features show multi-modal distributions</li>\n",
    "            <li>All features have discrete values which is indicative of representation for categorical data.</li>\n",
    "            <li>While 'management_risk' and 'operating_risk' show slightly negative skewness, 'financial_flexibility' is showing slightly positive skewness. The rest of the features are showing more or less zero skewness. </li>\n",
    "        </font>\n",
    "    </i>\n",
    "</ul>\n",
    "<hr/>"
   ]
  },
  {
   "cell_type": "code",
   "execution_count": null,
   "id": "bce41e2b-519e-4624-b0f3-d5f034f7fcb3",
   "metadata": {},
   "outputs": [],
   "source": [
    "fig, ax = plt.subplots(2,3, figsize=(8,5))\n",
    "\n",
    "features = ['industrial_risk', 'management_risk', 'financial_flexibility',\n",
    "        'credibility', 'competitiveness', 'operating_risk']\n",
    "\n",
    "for i in range(0, len(features)):    \n",
    "    counts = df[features[i]].value_counts().reset_index()\n",
    "    sns.barplot(data=counts, x='index', y=features[i], ax=ax[i%2, i%3], width=0.5)\n",
    "\n",
    "plt.tight_layout()\n",
    "plt.show()"
   ]
  },
  {
   "cell_type": "code",
   "execution_count": null,
   "id": "ecf6c536-bf67-4ede-a865-6ae28ccd837e",
   "metadata": {},
   "outputs": [],
   "source": [
    "# Calculate frequencies\n",
    "df_freq = df.iloc[:,:6].apply(lambda x: x.value_counts()).T.fillna(0)\n",
    "\n",
    "colors = [\"#2c805c\", \"#dfe7e4\", \"#ff9f3e\"]\n",
    "\n",
    "df_freq.plot(kind='bar', stacked=True, color=colors)\n",
    "plt.title('Stacked Bar Chart of Features')\n",
    "plt.xlabel('Features')\n",
    "plt.ylabel('Frequency')\n",
    "plt.show()"
   ]
  },
  {
   "cell_type": "markdown",
   "id": "3384297a-2e6c-4845-9090-52098a7ce44e",
   "metadata": {},
   "source": [
    "#### <font color='#1abc9c'> Correlation </font>"
   ]
  },
  {
   "cell_type": "code",
   "execution_count": null,
   "id": "da01c529-8970-45bb-b103-11443cf021a1",
   "metadata": {},
   "outputs": [],
   "source": [
    "corr = df.corr()\n",
    "corr"
   ]
  },
  {
   "cell_type": "code",
   "execution_count": null,
   "id": "e8ec1e43-4195-4e2d-8c6b-8744e82df66c",
   "metadata": {},
   "outputs": [],
   "source": [
    "sns.heatmap(corr, annot=True, cmap='viridis')\n",
    "plt.show()"
   ]
  },
  {
   "cell_type": "markdown",
   "id": "fc09b75d-6f8c-46e9-a1bd-d996d0f33969",
   "metadata": {},
   "source": [
    "<hr/>\n",
    "<ul>\n",
    "    <i>\n",
    "        <font color='#3636a9'>\n",
    "            <li>There is a moderate positive correlation between 'competitiveness' and 'financial_flexibility' and 'credibility'</li>\n",
    "            <li>There is a medium positive correlation between 'financial_flexibility' and 'credibility'</li>\n",
    "            <li>The target 'category' is negatively correlated with 'competitiveness', 'financial_flexibility' and 'credibility'. This means that if a business is rated lower of 'competitiveness', 'financial_flexibility' and 'credibility' there are higher chances of the business going bankrupt. </li>\n",
    "        </font>\n",
    "    </i>\n",
    "</ul>\n",
    "<hr/>"
   ]
  },
  {
   "cell_type": "code",
   "execution_count": null,
   "id": "14102f10-eee4-48d1-97e7-f050e95e6027",
   "metadata": {},
   "outputs": [],
   "source": [
    "sns.pairplot(data=df, hue='category', palette='Set3')\n",
    "plt.show()"
   ]
  },
  {
   "cell_type": "markdown",
   "id": "dcf457bf-e339-4941-b9b7-3398b710f746",
   "metadata": {},
   "source": [
    "<hr/>\n",
    "<ul>\n",
    "    <i>\n",
    "        <font color='#676799'> The above pair plots indicate the following:\n",
    "            <li>Low score on 'competitiveness' invariable leads to the business having a high risk of bankruptcy, regardless of its score on any other features.</li>\n",
    "            <li>A business has higher risk of bankruptcy with higher score on 'industrial_risk' and lower score on 'credibility'</li>\n",
    "            <li>So also, a business has a higher risk of going bankrupt when it scores low on both 'management_risk' as well as 'credibility'</li>\n",
    "        </font>\n",
    "    </i>\n",
    "</ul>\n",
    "<hr/>"
   ]
  },
  {
   "cell_type": "markdown",
   "id": "422dbab8-ba97-4305-8f6c-22d7215f0a19",
   "metadata": {},
   "source": [
    "#### <font color='#1abc9c'> Determining Outliers </font>"
   ]
  },
  {
   "cell_type": "code",
   "execution_count": null,
   "id": "854abb7a-0668-483c-9db3-c64702c7f40c",
   "metadata": {},
   "outputs": [],
   "source": [
    "fig, ax = plt.subplots(nrows=2, ncols=3, figsize=(10, 2))\n",
    "fig.subplots_adjust(wspace=0.05, hspace=0.75)\n",
    "\n",
    "sns.boxplot(x='industrial_risk',data=df,palette='hls',ax=ax[0,0], fliersize=4, flierprops={'marker':'o','markerfacecolor':'c'})\n",
    "sns.boxplot(x='management_risk',data=df,palette='hls',ax=ax[0,1], fliersize=4, flierprops={'marker':'o','markerfacecolor':'c'})\n",
    "sns.boxplot(x='financial_flexibility',data=df,palette='hls',ax=ax[0,2], fliersize=4, flierprops={'marker':'o','markerfacecolor':'c'})\n",
    "sns.boxplot(x='credibility',data=df,palette='hls',ax=ax[1,0], fliersize=4, flierprops={'marker':'o','markerfacecolor':'c'})\n",
    "sns.boxplot(x='operating_risk',data=df,palette='hls',ax=ax[1,1], fliersize=4, flierprops={'marker':'o','markerfacecolor':'c'})\n",
    "sns.boxplot(x='competitiveness',data=df,palette='hls',ax=ax[1,2], fliersize=4, flierprops={'marker':'o','markerfacecolor':'c'})\n",
    "\n",
    "ax[0,0].set_xlabel('industrial_risk', color='#f57345')\n",
    "ax[0,1].set_xlabel('management_risk', color='#f57345')\n",
    "ax[0,2].set_xlabel('financial_flexibility', color='#f57345')\n",
    "ax[1,0].set_xlabel('credibility', color='#f57345')\n",
    "ax[1,1].set_xlabel('operating_risk', color='#f57345')\n",
    "ax[1,2].set_xlabel('competitiveness', color='#f57345')\n",
    "\n",
    "ax[0,0].tick_params(labelsize=8)\n",
    "ax[0,1].tick_params(labelsize=8)\n",
    "ax[0,2].tick_params(labelsize=8)\n",
    "ax[1,0].tick_params(labelsize=8)\n",
    "ax[1,1].tick_params(labelsize=8)\n",
    "ax[1,2].tick_params(labelsize=8)\n",
    "\n",
    "plt.show()"
   ]
  },
  {
   "cell_type": "markdown",
   "id": "46d82ea9-d493-4133-8076-cd82edc17785",
   "metadata": {},
   "source": [
    "<hr/><font color='#3636a9'> There is no indication of any any outliers in any of the feature values. </font><hr/>"
   ]
  },
  {
   "cell_type": "markdown",
   "id": "f9699525-3bc5-48c9-b7a7-562217f5b237",
   "metadata": {},
   "source": [
    "## <font color='#e74c3c'> Data Preparation </font>"
   ]
  },
  {
   "cell_type": "markdown",
   "id": "7dfb6765-81fe-45ae-9050-fef58b088407",
   "metadata": {},
   "source": [
    "### <font color='#1abc9c'> Split dataset into features and target </font>"
   ]
  },
  {
   "cell_type": "code",
   "execution_count": null,
   "id": "e3126cab-28e1-49bd-ae74-0889d62399e2",
   "metadata": {},
   "outputs": [],
   "source": [
    "X = df.iloc[:,:6]\n",
    "y = df.iloc[:,6:]\n",
    "\n",
    "print(f'X:\\r\\n{X.head()}\\r\\n')\n",
    "print(f'y:\\r\\n{y.head()}')"
   ]
  },
  {
   "cell_type": "code",
   "execution_count": null,
   "id": "3366a2b2-a117-4809-8fd3-ba8259152b18",
   "metadata": {},
   "outputs": [],
   "source": [
    "print('X:')\n",
    "X.info()\n",
    "print('\\r\\ny:')\n",
    "y.info()"
   ]
  },
  {
   "cell_type": "markdown",
   "id": "e0ea4393-d0c9-42a5-b081-79c9b0d5d2f6",
   "metadata": {},
   "source": [
    "### <font color='#1abc9c'> Split each dataset into train and test </font>"
   ]
  },
  {
   "cell_type": "code",
   "execution_count": null,
   "id": "bfce73e7-09d8-4539-a962-c00aaee9987b",
   "metadata": {},
   "outputs": [],
   "source": [
    "X_train, X_test, y_train, y_test = train_test_split(X, y, test_size=0.25)\n",
    "print(X_train.shape, X_test.shape, y_train.shape, y_test.shape)"
   ]
  },
  {
   "cell_type": "markdown",
   "id": "5a538d4e-c47d-457c-a396-f669a65dfb6d",
   "metadata": {},
   "source": [
    "#### <font color='#1abc9c'> Inspect the datasets </font>"
   ]
  },
  {
   "cell_type": "code",
   "execution_count": null,
   "id": "a6708344-95c4-43f3-826a-8efb02b302a3",
   "metadata": {},
   "outputs": [],
   "source": [
    "print(f'X_train:\\r\\n{X_train.head()}')\n",
    "print(f'X_test:\\r\\n{X_test.head()}\\r\\n')\n",
    "print('---------------------\\r\\n')\n",
    "print(f'y_train:{y_train.head()}')\n",
    "print(f'y_test:{y_test.head()}')"
   ]
  },
  {
   "cell_type": "markdown",
   "id": "05540361-2421-47da-bfc4-e361c6742adb",
   "metadata": {},
   "source": [
    "## <font color='#e74c3c'> Modelling - Logistic Regression </font>"
   ]
  },
  {
   "cell_type": "markdown",
   "id": "4ff8fe6d-80f6-492b-ad5e-6f4382ce2c90",
   "metadata": {},
   "source": [
    "### <font color='#1abc9c'> Fit Model </font>"
   ]
  },
  {
   "cell_type": "code",
   "execution_count": null,
   "id": "e3aca39c-0dc6-4e30-9a83-9ffe25237cf9",
   "metadata": {},
   "outputs": [],
   "source": [
    "classifier = LogisticRegression()\n",
    "model0 = classifier.fit(X_train, y_train)"
   ]
  },
  {
   "cell_type": "markdown",
   "id": "26dfa553-a7a4-4cbf-9ab5-52029d8b81d0",
   "metadata": {},
   "source": [
    "### <font color='#1abc9c'> Predictions - training data </font>"
   ]
  },
  {
   "cell_type": "code",
   "execution_count": null,
   "id": "e3cb7753-fab9-43aa-acbf-33e316ff2c9e",
   "metadata": {},
   "outputs": [],
   "source": [
    "y_pred_train_0 = model0.predict(X_train)\n",
    "print(y_pred_train_0)"
   ]
  },
  {
   "cell_type": "markdown",
   "id": "18b40391-d293-41eb-be45-f973eb5b1ab4",
   "metadata": {},
   "source": [
    "#### <font color='#1abc9c'> Metrics </font>"
   ]
  },
  {
   "cell_type": "code",
   "execution_count": null,
   "id": "9bc776eb-1b5d-47db-87e9-396c73306e0f",
   "metadata": {},
   "outputs": [],
   "source": [
    "confusion_matrix(y_train, y_pred_train_0)"
   ]
  },
  {
   "cell_type": "code",
   "execution_count": null,
   "id": "bae8bbeb-05e2-494b-b322-8fa0096784dd",
   "metadata": {},
   "outputs": [],
   "source": [
    "print(classification_report(y_train, y_pred_train_0))"
   ]
  },
  {
   "cell_type": "code",
   "execution_count": null,
   "id": "cf97bcac-eeb5-4b28-a8a9-916ee7f56a58",
   "metadata": {},
   "outputs": [],
   "source": [
    "accuracy_score(y_train, y_pred_train_0)"
   ]
  },
  {
   "cell_type": "markdown",
   "id": "da9e6013-1851-49f2-86dd-55aff6516dbe",
   "metadata": {},
   "source": [
    "<hr/>\n",
    "<ul>\n",
    "    <i>\n",
    "        <font color='#676799'> A very high accuracy score indicates that the model could be overfitted. Let us see how the model performs with test data.\n",
    "        </font>\n",
    "    </i>\n",
    "</ul>\n",
    "<hr/>"
   ]
  },
  {
   "cell_type": "markdown",
   "id": "2c66ba2a-3be3-48c4-8fe5-15b99df42c8d",
   "metadata": {},
   "source": [
    "### <font color='#1abc9c'> Predictions - test data </font>"
   ]
  },
  {
   "cell_type": "code",
   "execution_count": null,
   "id": "fea53e48-cbf7-46ed-bc14-5b57d330bdf5",
   "metadata": {},
   "outputs": [],
   "source": [
    "y_pred_test_0 = model0.predict(X_test)\n",
    "print(y_pred_test_0)"
   ]
  },
  {
   "cell_type": "markdown",
   "id": "9b7f6ef2-8b5a-47da-ba7f-95c7dc72869e",
   "metadata": {},
   "source": [
    "#### <font color='#1abc9c'> Metrics </font>"
   ]
  },
  {
   "cell_type": "code",
   "execution_count": null,
   "id": "1c320db4-4ddd-434c-8f39-e162881f7de6",
   "metadata": {},
   "outputs": [],
   "source": [
    "confusion_matrix(y_test, y_pred_test_0)"
   ]
  },
  {
   "cell_type": "code",
   "execution_count": null,
   "id": "50d7653f-de9c-4fa1-ac14-5ee5a4564d8d",
   "metadata": {},
   "outputs": [],
   "source": [
    "print(classification_report(y_test, y_pred_test_0))"
   ]
  },
  {
   "cell_type": "code",
   "execution_count": null,
   "id": "dcf4ad5b-70ef-4932-8d1e-da89875e8bc9",
   "metadata": {},
   "outputs": [],
   "source": [
    "accuracy_score(y_test, y_pred_test_0)"
   ]
  },
  {
   "cell_type": "markdown",
   "id": "94bbfedf-e92f-4bed-85c7-4f21a9151f57",
   "metadata": {},
   "source": [
    "<hr/>\n",
    "<ul>\n",
    "    <i>\n",
    "        <font color='#676799'> The model seems to be performing well with test data too. However, there could be lack of variance which may make the model to perform poorly with new data. Therefore we will use K-Fold cross validation to introduce variance into the model fit. \n",
    "        </font>\n",
    "    </i>\n",
    "</ul>\n",
    "<hr/>"
   ]
  },
  {
   "cell_type": "markdown",
   "id": "b44731c3-0937-42bb-b4f1-549fe67b8641",
   "metadata": {},
   "source": [
    "## <font color='#e74c3c'> Re-Fit Model with Cross Validation </font>"
   ]
  },
  {
   "cell_type": "code",
   "execution_count": null,
   "id": "bc86ba94-db5d-4a2c-8b77-b31c736067a8",
   "metadata": {},
   "outputs": [],
   "source": [
    "# Start the timer\n",
    "start_time = t.time()\n",
    "\n",
    "classifier_cv = LogisticRegressionCV(cv=5, random_state=42)\n",
    "model_cv = classifier_cv.fit(X_train, y_train)\n",
    "\n",
    "# End the timer\n",
    "end_time = t.time()\n",
    "\n",
    "elapsed_time = end_time - start_time\n",
    "print(f\"Elapsed time for fitting: {elapsed_time:0.5f} seconds\")"
   ]
  },
  {
   "cell_type": "markdown",
   "id": "26cfb77f-5c60-49e9-80aa-71b7e818e463",
   "metadata": {},
   "source": [
    "### <font color='#1abc9c'> Predictions - training data with CV </font>"
   ]
  },
  {
   "cell_type": "code",
   "execution_count": null,
   "id": "ea3579fa-f6e0-4ee7-b64d-ffe23da3bf7c",
   "metadata": {},
   "outputs": [],
   "source": [
    "# Start the timer\n",
    "start_time = t.time()\n",
    "\n",
    "y_pred_train = model_cv.predict(X_train)\n",
    "\n",
    "# End the timer\n",
    "end_time = t.time()\n",
    "\n",
    "elapsed_time = end_time - start_time\n",
    "print(f\"Elapsed time for predictions: {elapsed_time:0.5f} seconds\")\n",
    "\n",
    "print(y_pred_train)"
   ]
  },
  {
   "cell_type": "markdown",
   "id": "1ff5bccc-93d0-4d09-8650-e70cf15ecf01",
   "metadata": {},
   "source": [
    "#### <font color='#1abc9c'> Metrics (for model with CV) </font>"
   ]
  },
  {
   "cell_type": "code",
   "execution_count": null,
   "id": "06e3d363-e251-4348-bf98-9543ac960368",
   "metadata": {},
   "outputs": [],
   "source": [
    "confusion_matrix(y_train, y_pred_train)"
   ]
  },
  {
   "cell_type": "code",
   "execution_count": null,
   "id": "efe965eb-5a09-49a1-92c3-34f6767ba802",
   "metadata": {},
   "outputs": [],
   "source": [
    "print(classification_report(y_train, y_pred_train))"
   ]
  },
  {
   "cell_type": "code",
   "execution_count": null,
   "id": "8b581bda-2222-4300-b8e2-17c081b026f4",
   "metadata": {},
   "outputs": [],
   "source": [
    "accuracy_score(y_train, y_pred_train)"
   ]
  },
  {
   "cell_type": "markdown",
   "id": "aab91b7f-9a03-43d5-bc6b-6b9bf8a43c2a",
   "metadata": {},
   "source": [
    "<hr/>\n",
    "<ul>\n",
    "    <i>\n",
    "        <font color='#676799'> There doesn't seem to be much of an improvement in the model after applying cross validation. Let us apply Regularization techniques to find out whether it makes any difference. \n",
    "        </font>\n",
    "    </i>\n",
    "</ul>\n",
    "<hr/>"
   ]
  },
  {
   "cell_type": "markdown",
   "id": "75fd3e2f-daef-433e-9f96-2bd7c2d9a626",
   "metadata": {},
   "source": [
    "## <font color='#e74c3c'> Apply Lasso Regularization </font>"
   ]
  },
  {
   "cell_type": "code",
   "execution_count": null,
   "id": "97b5695a-f818-45f7-b816-8150d9f73a57",
   "metadata": {},
   "outputs": [],
   "source": [
    "# Start the timer\n",
    "start_time = t.time()\n",
    "\n",
    "classifier_l = LogisticRegressionCV(penalty='l1', solver='liblinear', cv=5, random_state=42)\n",
    "model_l = classifier_l.fit(X_train, y_train)\n",
    "\n",
    "# End the timer\n",
    "end_time = t.time()\n",
    "\n",
    "elapsed_time = end_time - start_time\n",
    "print(f\"Elapsed time for fitting: {elapsed_time:0.5f} seconds\")"
   ]
  },
  {
   "cell_type": "markdown",
   "id": "fb53db6c-0221-4f6a-bb61-622257d17b34",
   "metadata": {},
   "source": [
    "### <font color='#1abc9c'> Predictions - training data with Lasso applied </font>"
   ]
  },
  {
   "cell_type": "code",
   "execution_count": null,
   "id": "bf2f50b1-596d-416d-b349-2982ad3ec079",
   "metadata": {},
   "outputs": [],
   "source": [
    "# Start the timer\n",
    "start_time = t.time()\n",
    "\n",
    "y_pred_train = model_l.predict(X_train)\n",
    "\n",
    "# End the timer\n",
    "end_time = t.time()\n",
    "\n",
    "elapsed_time = end_time - start_time\n",
    "print(f\"Elapsed time for predictions: {elapsed_time:0.5f} seconds\")\n",
    "\n",
    "print(y_pred_train)"
   ]
  },
  {
   "cell_type": "markdown",
   "id": "dce93704-d77d-4726-92dd-4224b09e2d23",
   "metadata": {},
   "source": [
    "#### <font color='#1abc9c'> Metrics (for model with Lasso applied) </font>"
   ]
  },
  {
   "cell_type": "code",
   "execution_count": null,
   "id": "6a75b98c-b3f8-4f5e-b667-597e60839a80",
   "metadata": {},
   "outputs": [],
   "source": [
    "confusion_matrix(y_train, y_pred_train)"
   ]
  },
  {
   "cell_type": "code",
   "execution_count": null,
   "id": "21c950f6-fa0f-4472-b425-cec9fcf6aa67",
   "metadata": {},
   "outputs": [],
   "source": [
    "print(classification_report(y_train, y_pred_train))"
   ]
  },
  {
   "cell_type": "code",
   "execution_count": null,
   "id": "0f02ad08-53bd-46d6-adba-ec6bab1d2523",
   "metadata": {},
   "outputs": [],
   "source": [
    "accuracy_score(y_train, y_pred_train)"
   ]
  },
  {
   "cell_type": "markdown",
   "id": "9d4aee5d-29ef-4086-8008-dcf2e53f8cb6",
   "metadata": {},
   "source": [
    "<hr/>\n",
    "<ul>\n",
    "    <i>\n",
    "        <font color='#676799'> There doesn't seem to be much of an improvement in the model after applying Lasso Regularization. Let us apply Ridge Regularization technique to find out whether it makes any difference. \n",
    "        </font>\n",
    "    </i>\n",
    "</ul>\n",
    "<hr/>"
   ]
  },
  {
   "cell_type": "markdown",
   "id": "5152775d-2ed8-4ad3-a7d1-2e5d771a65ab",
   "metadata": {},
   "source": [
    "## <font color='#e74c3c'> Apply Ridge Regularization </font>"
   ]
  },
  {
   "cell_type": "code",
   "execution_count": null,
   "id": "2ee1fc21-dc52-446b-b3ad-7003c38783de",
   "metadata": {},
   "outputs": [],
   "source": [
    "# Start the timer\n",
    "start_time = t.time()\n",
    "\n",
    "classifier_r = LogisticRegressionCV(penalty='l2', solver='lbfgs', cv=5, random_state=42)\n",
    "model_r = classifier_r.fit(X_train, y_train)\n",
    "\n",
    "# End the timer\n",
    "end_time = t.time()\n",
    "\n",
    "elapsed_time = end_time - start_time\n",
    "print(f\"Elapsed time for fitting: {elapsed_time:0.5f} seconds\")"
   ]
  },
  {
   "cell_type": "markdown",
   "id": "b84fd9a3-c5c3-476a-a3f7-45a85f8136bf",
   "metadata": {},
   "source": [
    "### <font color='#1abc9c'> Predictions - training data with Ridge applied </font>"
   ]
  },
  {
   "cell_type": "code",
   "execution_count": null,
   "id": "81670472-b594-4856-a8d7-92dbdea69bce",
   "metadata": {},
   "outputs": [],
   "source": [
    "# Start the timer\n",
    "start_time = t.time()\n",
    "\n",
    "y_pred_train = model_r.predict(X_train)\n",
    "\n",
    "# End the timer\n",
    "end_time = t.time()\n",
    "\n",
    "elapsed_time = end_time - start_time\n",
    "print(f\"Elapsed time for predictions: {elapsed_time:0.5f} seconds\")\n",
    "\n",
    "print(y_pred_train)"
   ]
  },
  {
   "cell_type": "markdown",
   "id": "80fba54c-b2b1-4450-826f-da1d72731ef0",
   "metadata": {},
   "source": [
    "#### <font color='#1abc9c'> Metrics (for model with Lasso applied) </font>"
   ]
  },
  {
   "cell_type": "code",
   "execution_count": null,
   "id": "0fd3684b-2267-4c89-9abe-0fde6c4a4dd6",
   "metadata": {},
   "outputs": [],
   "source": [
    "confusion_matrix(y_train, y_pred_train)"
   ]
  },
  {
   "cell_type": "code",
   "execution_count": null,
   "id": "ccfc80f1-d598-49fb-9e24-deb32cb8f202",
   "metadata": {},
   "outputs": [],
   "source": [
    "print(classification_report(y_train, y_pred_train))"
   ]
  },
  {
   "cell_type": "code",
   "execution_count": null,
   "id": "13160daa-4958-4da9-badc-6952662049da",
   "metadata": {},
   "outputs": [],
   "source": [
    "accuracy_score(y_train, y_pred_train)"
   ]
  },
  {
   "cell_type": "markdown",
   "id": "25a53bed-cdee-4fc0-9d2a-ed1e003ccb66",
   "metadata": {},
   "source": [
    "<hr/>\n",
    "<ul>\n",
    "    <i>\n",
    "        <font color='#676799'> There doesn't seem to be much of an improvement in the model after applying Ridge Regularization. We will accept the original model.\n",
    "        </font>\n",
    "    </i>\n",
    "</ul>\n",
    "<hr/>"
   ]
  },
  {
   "cell_type": "markdown",
   "id": "d20c8424-b564-4fbd-8d08-e917bcfbcd2e",
   "metadata": {},
   "source": [
    "## <font color='#e74c3c'> Decision Metrics </font>"
   ]
  },
  {
   "cell_type": "markdown",
   "id": "2cd77f3a-d3d5-485d-9d65-5cc59eb93a05",
   "metadata": {},
   "source": [
    "### <font color='#1abc9c'> Precision, Recall, F1 and Accuracy </font>"
   ]
  },
  {
   "cell_type": "code",
   "execution_count": null,
   "id": "e4dd45fd-c47e-45a3-9b68-7275c142de32",
   "metadata": {},
   "outputs": [],
   "source": [
    "print(f'The precision score is: {precision_score(y_test, y_pred_test_0)}')\n",
    "print(f'The recall score is: {recall_score(y_test, y_pred_test_0)}')\n",
    "print(f'The f1 score is: {f1_score(y_test, y_pred_test_0)}')\n",
    "print(f'The accuracy score is: {accuracy_score(y_test, y_pred_test_0)}')"
   ]
  },
  {
   "cell_type": "markdown",
   "id": "7f78cc77-c639-4957-9e4b-fa52fdc98e10",
   "metadata": {},
   "source": [
    "### <font color='#1abc9c'> ROC Curve and AUC </font>"
   ]
  },
  {
   "cell_type": "code",
   "execution_count": null,
   "id": "4d13d038-3d04-4673-856d-b7ba3f175d5a",
   "metadata": {},
   "outputs": [],
   "source": [
    "print(f'The roc_auc score is: {roc_auc_score(y_test, y_pred_test_0)}')"
   ]
  },
  {
   "cell_type": "code",
   "execution_count": null,
   "id": "cd9c9f47-e6e1-4988-a330-22a47d6bb631",
   "metadata": {},
   "outputs": [],
   "source": [
    "fpr, tpr, _ = roc_curve(y_test, y_pred_test_0)\n",
    "roc_auc = auc(fpr, tpr)\n",
    "\n",
    "plt.figure()\n",
    "lw = 2\n",
    "plt.plot(fpr, tpr, color='darkorange',\n",
    "         lw=lw, label='ROC curve (area = %0.2f)' % roc_auc)\n",
    "plt.plot([0, 1], [0, 1], color='navy', lw=lw, linestyle='--')\n",
    "plt.xlim([0.0, 1.0])\n",
    "plt.ylim([0.0, 1.05])\n",
    "plt.xlabel('False Positive Rate')\n",
    "plt.ylabel('True Positive Rate')\n",
    "plt.title('Receiver operating characteristic')\n",
    "plt.legend(loc=\"lower right\")\n",
    "plt.show()"
   ]
  },
  {
   "cell_type": "markdown",
   "id": "6795cfe5-f1de-43bc-b4e8-5ae7c2e960b0",
   "metadata": {},
   "source": [
    "## <font color='#e74c3c'> Evaluation Metrics </font>"
   ]
  },
  {
   "cell_type": "markdown",
   "id": "7a7502b6-a755-4e9d-a378-638287457d32",
   "metadata": {},
   "source": [
    "## <font color='#1abc9c'> Brier Score </font>"
   ]
  },
  {
   "cell_type": "code",
   "execution_count": null,
   "id": "8d0b916b-2b7b-4b31-82f4-e025cbc4a995",
   "metadata": {},
   "outputs": [],
   "source": [
    "# Brier Score closer to 0 is better\n",
    "brier_score = brier_score_loss(y_test, y_pred_test_0)\n",
    "print(f\"The Brier score is {brier_score:.4f}\")"
   ]
  },
  {
   "cell_type": "markdown",
   "id": "b05061e8-1b87-481b-a163-90a3e357d4e5",
   "metadata": {},
   "source": [
    "## <font color='#1abc9c'> Log-Loss Score </font>"
   ]
  },
  {
   "cell_type": "code",
   "execution_count": null,
   "id": "fae2f617-4112-453d-b260-bf34b3ce28ba",
   "metadata": {},
   "outputs": [],
   "source": [
    "# Values closer to 0 indicate better prediction\n",
    "lls = log_loss(y_test, y_pred_test_0)\n",
    "print(f'The log loss score is {lls:0.4f}')"
   ]
  },
  {
   "cell_type": "markdown",
   "id": "240bdcac-604e-4c89-b7ef-2b0c9ac89f97",
   "metadata": {},
   "source": [
    "## <font color='#1abc9c'> Matthews Correlation Coefficient (MCC) </font>"
   ]
  },
  {
   "cell_type": "code",
   "execution_count": null,
   "id": "0f7fbf23-fea2-441e-9a41-a77996b84db2",
   "metadata": {},
   "outputs": [],
   "source": [
    "# MCC=1: Perfect prediction.\n",
    "# MCC=0: No better than random.\n",
    "# MCC=−1: Total disagreement between prediction and observation.\n",
    "mcc = matthews_corrcoef(y_test, y_pred_test_0)\n",
    "print(f'The Matthews Correlation Coefficient is {mcc:0.4f}')"
   ]
  },
  {
   "cell_type": "markdown",
   "id": "aa7eb806-9412-4888-bf4e-f5a4b3f788f7",
   "metadata": {},
   "source": [
    "## <font color='#e74c3c'> Store the Model </font>"
   ]
  },
  {
   "cell_type": "code",
   "execution_count": null,
   "id": "9a0bd551-7529-4bba-8e4d-9e978ae32b9a",
   "metadata": {},
   "outputs": [],
   "source": [
    "import pickle\n",
    "\n",
    "with open('model.pkl', 'wb') as f:\n",
    "    pickle.dump(model0, f)"
   ]
  }
 ],
 "metadata": {
  "kernelspec": {
   "display_name": "Python 3 (ipykernel)",
   "language": "python",
   "name": "python3"
  },
  "language_info": {
   "codemirror_mode": {
    "name": "ipython",
    "version": 3
   },
   "file_extension": ".py",
   "mimetype": "text/x-python",
   "name": "python",
   "nbconvert_exporter": "python",
   "pygments_lexer": "ipython3",
   "version": "3.11.5"
  }
 },
 "nbformat": 4,
 "nbformat_minor": 5
}
